{
 "cells": [
  {
   "cell_type": "markdown",
   "source": [
    "# Other Ideas"
   ],
   "metadata": {}
  },
  {
   "cell_type": "markdown",
   "source": [
    "This a class"
   ],
   "metadata": {}
  },
  {
   "cell_type": "code",
   "execution_count": 1,
   "source": [
    "class TACO:\n",
    "\n",
    "    \"\"\"\n",
    "    TACO !!!!!!!!!!!!!\n",
    "    \"\"\"\n",
    "\n",
    "    def __init__(self):\n",
    "        self.name = None\n",
    "        self.evolution = None\n",
    "        self.ability = None\n",
    "        self.pokemon_type = None\n",
    "\n",
    "    def who_is_that_TACO(self):\n",
    "        \"\"\"\n",
    "        Shows the TACO's name and its evolution.\n",
    "\n",
    "        Usage: at\n",
    "        \"\"\""
   ],
   "outputs": [],
   "metadata": {}
  },
  {
   "cell_type": "code",
   "execution_count": 4,
   "source": [
    "import pandas as pd\n",
    "import numpy as np"
   ],
   "outputs": [],
   "metadata": {}
  },
  {
   "cell_type": "code",
   "execution_count": 6,
   "source": [
    "pd.DataFrame(np.random.rand(3,3))"
   ],
   "outputs": [
    {
     "output_type": "execute_result",
     "data": {
      "text/html": [
       "<div>\n",
       "<style scoped>\n",
       "    .dataframe tbody tr th:only-of-type {\n",
       "        vertical-align: middle;\n",
       "    }\n",
       "\n",
       "    .dataframe tbody tr th {\n",
       "        vertical-align: top;\n",
       "    }\n",
       "\n",
       "    .dataframe thead th {\n",
       "        text-align: right;\n",
       "    }\n",
       "</style>\n",
       "<table border=\"1\" class=\"dataframe\">\n",
       "  <thead>\n",
       "    <tr style=\"text-align: right;\">\n",
       "      <th></th>\n",
       "      <th>0</th>\n",
       "      <th>1</th>\n",
       "      <th>2</th>\n",
       "    </tr>\n",
       "  </thead>\n",
       "  <tbody>\n",
       "    <tr>\n",
       "      <th>0</th>\n",
       "      <td>0.426698</td>\n",
       "      <td>0.550299</td>\n",
       "      <td>0.887559</td>\n",
       "    </tr>\n",
       "    <tr>\n",
       "      <th>1</th>\n",
       "      <td>0.339766</td>\n",
       "      <td>0.230622</td>\n",
       "      <td>0.031561</td>\n",
       "    </tr>\n",
       "    <tr>\n",
       "      <th>2</th>\n",
       "      <td>0.636414</td>\n",
       "      <td>0.115072</td>\n",
       "      <td>0.026880</td>\n",
       "    </tr>\n",
       "  </tbody>\n",
       "</table>\n",
       "</div>"
      ],
      "text/plain": [
       "          0         1         2\n",
       "0  0.426698  0.550299  0.887559\n",
       "1  0.339766  0.230622  0.031561\n",
       "2  0.636414  0.115072  0.026880"
      ]
     },
     "metadata": {},
     "execution_count": 6
    }
   ],
   "metadata": {}
  },
  {
   "cell_type": "code",
   "execution_count": null,
   "source": [],
   "outputs": [],
   "metadata": {}
  }
 ],
 "metadata": {
  "kernelspec": {
   "name": "python3",
   "display_name": "Python 3.9.6 64-bit ('base': conda)"
  },
  "language_info": {
   "codemirror_mode": {
    "name": "ipython",
    "version": 3
   },
   "file_extension": ".py",
   "mimetype": "text/x-python",
   "name": "python",
   "nbconvert_exporter": "python",
   "pygments_lexer": "ipython3",
   "version": "3.9.6"
  },
  "interpreter": {
   "hash": "001abc866a22cef559d9637b537cae687aa706e3ae8f886be16ce32df25ad2bd"
  }
 },
 "nbformat": 4,
 "nbformat_minor": 5
}